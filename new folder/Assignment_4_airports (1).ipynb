{
 "cells": [
  {
   "cell_type": "code",
   "execution_count": 2,
   "metadata": {
    "colab": {},
    "colab_type": "code",
    "id": "6jbjeJLebPtk"
   },
   "outputs": [],
   "source": [
    "import random\n",
    "import math \n",
    "\n",
    "num_city = 100\n",
    "num_air = 3\n",
    "cities = set()\n",
    "airports = []\n",
    "\n",
    "for i in range(num_city):\n",
    "    x = random.random()\n",
    "    y = random.random()\n",
    "    cities.add((x,y))\n",
    "   \n",
    "    \n",
    "startLocAirPorts = []\n",
    "for i in range(num_air):\n",
    "    x = random.random()\n",
    "    y = random.random()\n",
    "    airports.append((x,y))\n",
    "    startLocAirPorts.append((x,y))\n",
    "    \n",
    "\n"
   ]
  },
  {
   "cell_type": "code",
   "execution_count": 3,
   "metadata": {
    "colab": {
     "base_uri": "https://localhost:8080/",
     "height": 282
    },
    "colab_type": "code",
    "id": "P1XNFZdpbPtx",
    "outputId": "4bd4b05d-9aef-483f-f938-c5a92b751315",
    "scrolled": true
   },
   "outputs": [
    {
     "data": {
      "text/plain": [
       "<module 'matplotlib.pyplot' from '/Users/jeronimoreyes/Library/Python/3.7/lib/python/site-packages/matplotlib/pyplot.py'>"
      ]
     },
     "execution_count": 3,
     "metadata": {},
     "output_type": "execute_result"
    },
    {
     "data": {
      "image/png": "[encoded data removed]",
      "text/plain": [
       "<Figure size 432x288 with 1 Axes>"
      ]
     },
     "metadata": {
      "needs_background": "light"
     },
     "output_type": "display_data"
    }
   ],
   "source": [
    "import matplotlib.pyplot as plt\n",
    "\n",
    "zip_cities = zip(*cities)\n",
    "plt.scatter(*zip_cities, marker='+',color='b', label='Cities')\n",
    "zip_airs = zip(*airports)\n",
    "plt.scatter(*zip_airs, marker='*', color='r', s=100, label='Airports')\n",
    "plt.legend()\n",
    "plt"
   ]
  },
  {
   "cell_type": "code",
   "execution_count": 11,
   "metadata": {
    "colab": {},
    "colab_type": "code",
    "id": "vw_lnDrebPt5"
   },
   "outputs": [],
   "source": [
    "def closestCitiesSets(cities,airports):\n",
    "    airportA = set()\n",
    "    airportB = set()\n",
    "    airportC = set()\n",
    "    \n",
    "    for c in cities:\n",
    "        distance = math.inf\n",
    "        airportID = 0\n",
    "        for i in range(num_air):\n",
    "            difference = math.hypot(airports[i][0] - c[0], airports[i][1]- c[1])\n",
    "            if difference < distance:\n",
    "                distance = difference\n",
    "                airportID = i + 1\n",
    "                \n",
    "        if airportID == 1:\n",
    "            airportA.add(c)\n",
    "        elif airportID == 2:\n",
    "            airportB.add(c)\n",
    "        else:\n",
    "            airportC.add(c)\n",
    "        \n",
    "    cities_array = [airportA, airportB, airportC]\n",
    "        \n",
    "    return cities_array"
   ]
  },
  {
   "cell_type": "code",
   "execution_count": 12,
   "metadata": {
    "colab": {},
    "colab_type": "code",
    "id": "go-48Y5vbPt9"
   },
   "outputs": [],
   "source": [
    "#takes one set of closest cities \n",
    "#print(x[0], x[1])\n",
    "#print(airport[0], airport[1])\n",
    "def objective_function(cities, airports):\n",
    "    value = 0\n",
    "    \n",
    "    for i in range(len(airports)):\n",
    "        for x in cities[i]:\n",
    "            value = ((x[0]-airports[i][0])**2) + ((x[1]-airports[i][1])**2) + value\n",
    "\n",
    "    return value"
   ]
  },
  {
   "cell_type": "code",
   "execution_count": 13,
   "metadata": {
    "colab": {},
    "colab_type": "code",
    "id": "Xlk36KRXbPuB"
   },
   "outputs": [],
   "source": [
    "def gradientCalc(cities, airports):\n",
    "    gradient = []\n",
    "#   print(type(cities)) #set\n",
    "#   print(type(airports))# list \n",
    "\n",
    "    \n",
    "    for i in range(num_air): #for each airport \n",
    "        x=0\n",
    "        y=0\n",
    "        for city in cities[i]:\n",
    "            x = airports[i][0]-city[0] + x\n",
    "            y = airports[i][1]-city[1] + y\n",
    "        gradient.append((2*x, 2*y))\n",
    "    \n",
    "    return gradient\n",
    "    "
   ]
  },
  {
   "cell_type": "code",
   "execution_count": 14,
   "metadata": {
    "colab": {
     "base_uri": "https://localhost:8080/",
     "height": 54
    },
    "colab_type": "code",
    "id": "wIpYA3CLbPuE",
    "outputId": "8efe4dac-9b31-42dc-9d6c-ed64120c558a"
   },
   "outputs": [
    {
     "name": "stdout",
     "output_type": "stream",
     "text": [
      "[16.25997066762447, 10.199149302692758, 8.332145040176833, 7.337414658831818, 6.696362940960301, 6.308978772898398, 5.933048282762233, 5.6764252885694715, 5.596363195466037, 5.585149807080978, 5.583009872562685, 5.572636536252027, 5.571505202699422, 5.571345298691713, 5.571321581614136, 5.571317866663003, 5.571317249206362, 5.571317140146812, 5.571317119735422, 5.571317115715285]\n"
     ]
    }
   ],
   "source": [
    "value = []\n",
    "\n",
    "citiesSets = closestCitiesSets(cities, airports)\n",
    "value.append(objective_function(citiesSets, airports))\n",
    "    \n",
    "for i in range(1,20):\n",
    "    \n",
    "    if(i != 1):\n",
    "        citiesSets = closestCitiesSets(cities, airports)\n",
    "    \n",
    "    gradient = gradientCalc(citiesSets, airports)\n",
    "    \n",
    "    a = 0.009\n",
    "    \n",
    "    for i in range(num_air):\n",
    "        x = airports[i][0] - ((a)*gradient[i][0])\n",
    "        y = airports[i][1] - ((a)*gradient[i][1])\n",
    "        airports[i] = (x,y)\n",
    "    \n",
    "    value.append(objective_function(citiesSets, airports))\n",
    "    #print(round(value, 3))\n",
    "\n",
    "print(value)\n",
    "    \n"
   ]
  },
  {
   "cell_type": "code",
   "execution_count": 15,
   "metadata": {
    "colab": {
     "base_uri": "https://localhost:8080/",
     "height": 282
    },
    "colab_type": "code",
    "id": "CGOJEdmCbPuI",
    "outputId": "563e6aa7-8993-40e0-964d-7298ecf1a248"
   },
   "outputs": [
    {
     "data": {
      "text/plain": [
       "<module 'matplotlib.pyplot' from '/Users/jeronimoreyes/Library/Python/3.7/lib/python/site-packages/matplotlib/pyplot.py'>"
      ]
     },
     "execution_count": 15,
     "metadata": {},
     "output_type": "execute_result"
    },
    {
     "data": {
      "image/png": "[encoded data removed]",
      "text/plain": [
       "<Figure size 432x288 with 1 Axes>"
      ]
     },
     "metadata": {
      "needs_background": "light"
     },
     "output_type": "display_data"
    }
   ],
   "source": [
    "zip_cities = zip(*cities)\n",
    "plt.scatter(*zip_cities, marker='+',color='b', label='Cities')\n",
    "\n",
    "zip_airs_start = zip(*startLocAirPorts)\n",
    "plt.scatter(*zip_airs_start, marker='*', color='r', s=100, label='Original loc Airports')\n",
    "\n",
    "zip_airs = zip(*airports)\n",
    "plt.scatter(*zip_airs, marker='*', color='g', s=100, label='Final Loc Airports')\n",
    "\n",
    "plt.legend()\n",
    "plt"
   ]
  },
  {
   "cell_type": "code",
   "execution_count": 16,
   "metadata": {
    "colab": {
     "base_uri": "https://localhost:8080/",
     "height": 279
    },
    "colab_type": "code",
    "id": "1RFGj9YQbPuL",
    "outputId": "4bb1822c-5fe0-4788-f909-92b2cdcdeef5"
   },
   "outputs": [
    {
     "data": {
      "image/png": "[encoded data removed]",
      "text/plain": [
       "<Figure size 432x288 with 1 Axes>"
      ]
     },
     "metadata": {
      "needs_background": "light"
     },
     "output_type": "display_data"
    }
   ],
   "source": [
    "fig1 = plt.figure(1)\n",
    "plt.plot(range(1,21), value, 'bo')\n",
    "plt.xlabel(\"Epochs\")\n",
    "plt.ylabel(\"Objective\")\n",
    "plt.show()\n"
   ]
  },
  {
   "cell_type": "code",
   "execution_count": null,
   "metadata": {
    "colab": {},
    "colab_type": "code",
    "id": "sC-Rn-gKbPuO"
   },
   "outputs": [],
   "source": []
  }
 ],
 "metadata": {
  "colab": {
   "collapsed_sections": [],
   "name": "Assignment_4_airports.ipynb",
   "provenance": []
  },
  "kernelspec": {
   "display_name": "Python 3",
   "language": "python",
   "name": "python3"
  },
  "language_info": {
   "codemirror_mode": {
    "name": "ipython",
    "version": 3
   },
   "file_extension": ".py",
   "mimetype": "text/x-python",
   "name": "python",
   "nbconvert_exporter": "python",
   "pygments_lexer": "ipython3",
   "version": "3.7.3"
  }
 },
 "nbformat": 4,
 "nbformat_minor": 1
}
